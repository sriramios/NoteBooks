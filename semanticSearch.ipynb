{
  "nbformat": 4,
  "nbformat_minor": 0,
  "metadata": {
    "colab": {
      "provenance": [],
      "gpuType": "T4",
      "authorship_tag": "ABX9TyNcLsYukRjwc9WyjIqzwtNm",
      "include_colab_link": true
    },
    "kernelspec": {
      "name": "python3",
      "display_name": "Python 3"
    },
    "language_info": {
      "name": "python"
    },
    "accelerator": "GPU"
  },
  "cells": [
    {
      "cell_type": "markdown",
      "metadata": {
        "id": "view-in-github",
        "colab_type": "text"
      },
      "source": [
        "<a href=\"https://colab.research.google.com/github/sriramios/NoteBooks/blob/main/semanticSearch.ipynb\" target=\"_parent\"><img src=\"https://colab.research.google.com/assets/colab-badge.svg\" alt=\"Open In Colab\"/></a>"
      ]
    },
    {
      "cell_type": "code",
      "execution_count": null,
      "metadata": {
        "colab": {
          "base_uri": "https://localhost:8080/"
        },
        "id": "lhijbGEzaOdW",
        "outputId": "ff4565aa-1a2b-4f1f-caa5-c5d001061980"
      },
      "outputs": [
        {
          "output_type": "stream",
          "name": "stdout",
          "text": [
            "tensor([[ 0.3446,  0.3751, -0.0200,  0.0487,  0.1084]], device='cuda:0')\n",
            "0.3751020133495331 -- SwiftUI\n",
            "0.34459376335144043 -- Swift\n",
            "0.10841960459947586 -- Java\n"
          ]
        }
      ],
      "source": [
        "\n",
        "from sentence_transformers import SentenceTransformer\n",
        "from sentence_transformers import util\n",
        "import torch\n",
        "model = SentenceTransformer('all-MiniLM-L6-v2')\n",
        "corpus = [\n",
        "    \"Swift\",\n",
        "    \"SwiftUI\",\n",
        "    \"Kotlin\",\n",
        "    \"ReactNative\",\n",
        "    \"Java\"\n",
        "]\n",
        "corpus_embeddings = model.encode(corpus, convert_to_tensor=True)\n",
        "\n",
        "query = \"How to do iOS app Development\"\n",
        "query_embedding = model.encode(query,convert_to_tensor=True)\n",
        "\n",
        "cosline_scores = util.pytorch_cos_sim(query_embedding, corpus_embeddings)\n",
        "\n",
        "print(cosline_scores)\n",
        "top_k = 3\n",
        "results = torch.topk(cosline_scores,k=top_k)\n",
        "\n",
        "for score, i in zip(results.values[0], results.indices[0]):\n",
        "    print(f\"{score} -- {corpus[i]}\")\n"
      ]
    },
    {
      "cell_type": "code",
      "source": [
        "tensor_int = torch.randint(5,10,(4,5))\n",
        "print(tensor_int)\n",
        "tensors_ones = torch.ones_like(tensor_int)"
      ],
      "metadata": {
        "id": "tEFqh_hGrXv3",
        "outputId": "179e5275-32bc-4b9c-add2-b37cd048d218",
        "colab": {
          "base_uri": "https://localhost:8080/",
          "height": 184
        }
      },
      "execution_count": 1,
      "outputs": [
        {
          "output_type": "error",
          "ename": "NameError",
          "evalue": "name 'torch' is not defined",
          "traceback": [
            "\u001b[0;31m---------------------------------------------------------------------------\u001b[0m",
            "\u001b[0;31mNameError\u001b[0m                                 Traceback (most recent call last)",
            "\u001b[0;32m/tmp/ipython-input-800853767.py\u001b[0m in \u001b[0;36m<cell line: 0>\u001b[0;34m()\u001b[0m\n\u001b[0;32m----> 1\u001b[0;31m \u001b[0mtensor_int\u001b[0m \u001b[0;34m=\u001b[0m \u001b[0mtorch\u001b[0m\u001b[0;34m.\u001b[0m\u001b[0mrandint\u001b[0m\u001b[0;34m(\u001b[0m\u001b[0;36m5\u001b[0m\u001b[0;34m,\u001b[0m\u001b[0;36m10\u001b[0m\u001b[0;34m,\u001b[0m\u001b[0;34m(\u001b[0m\u001b[0;36m4\u001b[0m\u001b[0;34m,\u001b[0m\u001b[0;36m5\u001b[0m\u001b[0;34m)\u001b[0m\u001b[0;34m)\u001b[0m\u001b[0;34m\u001b[0m\u001b[0;34m\u001b[0m\u001b[0m\n\u001b[0m\u001b[1;32m      2\u001b[0m \u001b[0mprint\u001b[0m\u001b[0;34m(\u001b[0m\u001b[0mtensor_int\u001b[0m\u001b[0;34m)\u001b[0m\u001b[0;34m\u001b[0m\u001b[0;34m\u001b[0m\u001b[0m\n\u001b[1;32m      3\u001b[0m \u001b[0mtensors_ones\u001b[0m \u001b[0;34m=\u001b[0m \u001b[0mtorch\u001b[0m\u001b[0;34m.\u001b[0m\u001b[0mones_like\u001b[0m\u001b[0;34m(\u001b[0m\u001b[0mtensor_int\u001b[0m\u001b[0;34m)\u001b[0m\u001b[0;34m\u001b[0m\u001b[0;34m\u001b[0m\u001b[0m\n",
            "\u001b[0;31mNameError\u001b[0m: name 'torch' is not defined"
          ]
        }
      ]
    }
  ]
}