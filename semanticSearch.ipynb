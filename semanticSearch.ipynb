{
  "nbformat": 4,
  "nbformat_minor": 0,
  "metadata": {
    "colab": {
      "provenance": [],
      "gpuType": "T4",
      "authorship_tag": "ABX9TyNJVW9pPDLwBwX7mPXCkheP",
      "include_colab_link": true
    },
    "kernelspec": {
      "name": "python3",
      "display_name": "Python 3"
    },
    "language_info": {
      "name": "python"
    },
    "accelerator": "GPU"
  },
  "cells": [
    {
      "cell_type": "markdown",
      "metadata": {
        "id": "view-in-github",
        "colab_type": "text"
      },
      "source": [
        "<a href=\"https://colab.research.google.com/github/sriramios/NoteBooks/blob/main/semanticSearch.ipynb\" target=\"_parent\"><img src=\"https://colab.research.google.com/assets/colab-badge.svg\" alt=\"Open In Colab\"/></a>"
      ]
    },
    {
      "cell_type": "code",
      "execution_count": 4,
      "metadata": {
        "colab": {
          "base_uri": "https://localhost:8080/"
        },
        "id": "lhijbGEzaOdW",
        "outputId": "dbdc30fb-8a90-4274-965c-34268e102ac3"
      },
      "outputs": [
        {
          "output_type": "stream",
          "name": "stdout",
          "text": [
            "tensor([[ 0.3446,  0.3751, -0.0200,  0.0487,  0.1084]], device='cuda:0')\n",
            "0.3751020133495331 -- SwiftUI\n",
            "0.34459376335144043 -- Swift\n",
            "0.10841960459947586 -- Java\n"
          ]
        }
      ],
      "source": [
        "\n",
        "from sentence_transformers import SentenceTransformer\n",
        "from sentence_transformers import util\n",
        "import torch\n",
        "model = SentenceTransformer('all-MiniLM-L6-v2')\n",
        "corpus = [\n",
        "    \"Swift\",\n",
        "    \"SwiftUI\",\n",
        "    \"Kotlin\",\n",
        "    \"ReactNative\",\n",
        "    \"Java\"\n",
        "]\n",
        "corpus_embeddings = model.encode(corpus, convert_to_tensor=True)\n",
        "\n",
        "query = \"How to do iOS app Development\"\n",
        "query_embedding = model.encode(query,convert_to_tensor=True)\n",
        "\n",
        "cosline_scores = util.pytorch_cos_sim(query_embedding, corpus_embeddings)\n",
        "\n",
        "print(cosline_scores)\n",
        "top_k = 3\n",
        "results = torch.topk(cosline_scores,k=top_k)\n",
        "\n",
        "for score, i in zip(results.values[0], results.indices[0]):\n",
        "    print(f\"{score} -- {corpus[i]}\")\n"
      ]
    },
    {
      "cell_type": "code",
      "source": [
        "from transformers import pipeline\n",
        "\n",
        "model_name = \"distilbert-base-uncased-finetuned-sst-2-english\"\n",
        "revision = \"main\"\n",
        "\n",
        "classifier = pipeline(\"sentiment-analysis\", model=model_name, revision=revision)\n",
        "positive_result = classifier(\"i love working with GenAI\")\n",
        "print(positive_result)\n",
        "negative_result = classifier(\"i hate working with GenAI\")\n",
        "negative_result\n"
      ],
      "metadata": {
        "id": "l6hAx4dcbLZy",
        "outputId": "c564f2d3-f21b-4032-8654-9244758ae21a",
        "colab": {
          "base_uri": "https://localhost:8080/"
        }
      },
      "execution_count": 12,
      "outputs": [
        {
          "output_type": "stream",
          "name": "stderr",
          "text": [
            "Device set to use cuda:0\n"
          ]
        },
        {
          "output_type": "stream",
          "name": "stdout",
          "text": [
            "[{'label': 'POSITIVE', 'score': 0.9997525811195374}]\n"
          ]
        },
        {
          "output_type": "execute_result",
          "data": {
            "text/plain": [
              "[{'label': 'NEGATIVE', 'score': 0.9979760050773621}]"
            ]
          },
          "metadata": {},
          "execution_count": 12
        }
      ]
    },
    {
      "cell_type": "code",
      "source": [
        "from transformers import AutoTokenizer, AutoModelForSequenceClassification\n",
        "import torch\n",
        "\n",
        "\n",
        "model_name = \"distilbert-base-uncased-finetuned-sst-2-english\"\n",
        "\n",
        "\n",
        "tokenizer = AutoTokenizer.from_pretrained(model_name)\n",
        "model = AutoModelForSequenceClassification.from_pretrained(model_name)\n",
        "texts = [\"AI is amazing!\", \"Transformers are powerful.\"]\n",
        "inputs = tokenizer(texts, padding=True, truncation=True, return_tensors=\"pt\")\n",
        "outputs = model(**inputs)\n",
        "\n",
        "print(outputs)\n"
      ],
      "metadata": {
        "id": "XwB9GWMkcZ34",
        "outputId": "38d3e733-f6ee-4bf0-95a2-07ac6af26ad1",
        "colab": {
          "base_uri": "https://localhost:8080/"
        }
      },
      "execution_count": 18,
      "outputs": [
        {
          "output_type": "stream",
          "name": "stdout",
          "text": [
            "SequenceClassifierOutput(loss=None, logits=tensor([[-4.3551,  4.6976],\n",
            "        [-4.1777,  4.4981]], grad_fn=<AddmmBackward0>), hidden_states=None, attentions=None)\n"
          ]
        }
      ]
    },
    {
      "cell_type": "code",
      "source": [
        "from transformers import pipeline\n",
        "\n",
        "generator = pipeline(\"text-generation\", model=\"gpt2\")\n",
        "prompt= \"write a react code to generate the login screen and create resuable components\"\n",
        "output = generator(prompt, max_length=100)\n",
        "print(output)\n"
      ],
      "metadata": {
        "id": "KIMQSrNOejag",
        "outputId": "84983d26-a04d-4a70-a5a8-ced2661ecb43",
        "colab": {
          "base_uri": "https://localhost:8080/"
        }
      },
      "execution_count": 32,
      "outputs": [
        {
          "output_type": "stream",
          "name": "stderr",
          "text": [
            "Device set to use cuda:0\n",
            "Truncation was not explicitly activated but `max_length` is provided a specific value, please use `truncation=True` to explicitly truncate examples to max length. Defaulting to 'longest_first' truncation strategy. If you encode pairs of sequences (GLUE-style) with the tokenizer you can select this strategy more precisely by providing a specific strategy to `truncation`.\n",
            "Setting `pad_token_id` to `eos_token_id`:50256 for open-end generation.\n",
            "Both `max_new_tokens` (=256) and `max_length`(=100) seem to have been set. `max_new_tokens` will take precedence. Please refer to the documentation for more information. (https://huggingface.co/docs/transformers/main/en/main_classes/text_generation)\n"
          ]
        },
        {
          "output_type": "stream",
          "name": "stdout",
          "text": [
            "[{'generated_text': \"write a react code to generate the login screen and create resuable components to interact with the app.\\n\\nOnce the login screen is generated, we need to run the react-app.js file with the login-screen.js file.\\n\\nCreate React Native App\\n\\nThe app is named app.js.\\n\\nimport React from'react'; export default React.Component({ render: { layout: { width: 100%; height: 50%; margin: 0; padding: 20px; } } });\\n\\nNext, we need to create the component and our component's dependencies.\\n\\nimport React from'react'; import [react-native] from'react-core'; import components from './react-native'; import component from './component.js'; import { login-screen} from './login-screen';\\n\\nNow, let's run the application.\\n\\nimport { App } from'react-native'; import { view, body } from './body'; import { login-screen, login-screen.css, login-screen.onload } from './login-screen.js'; } export default App.get('/login/login');\\n\\nMake sure the app is running in the foreground or the background to avoid getting a lot of error messages.\\n\\n\"}]\n"
          ]
        }
      ]
    }
  ]
}